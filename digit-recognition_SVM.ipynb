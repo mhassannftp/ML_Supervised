{
 "cells": [
  {
   "cell_type": "code",
   "execution_count": 1,
   "id": "98333662",
   "metadata": {
    "_cell_guid": "b1076dfc-b9ad-4769-8c92-a6c4dae69d19",
    "_uuid": "8f2839f25d086af736a60e9eeb907d3b93b6e0e5",
    "execution": {
     "iopub.execute_input": "2022-01-10T13:35:47.517885Z",
     "iopub.status.busy": "2022-01-10T13:35:47.511123Z",
     "iopub.status.idle": "2022-01-10T13:35:48.734316Z",
     "shell.execute_reply": "2022-01-10T13:35:48.733578Z",
     "shell.execute_reply.started": "2022-01-10T13:22:57.125584Z"
    },
    "papermill": {
     "duration": 1.23146,
     "end_time": "2022-01-10T13:35:48.734478",
     "exception": false,
     "start_time": "2022-01-10T13:35:47.503018",
     "status": "completed"
    },
    "tags": []
   },
   "outputs": [],
   "source": [
    "from sklearn import datasets\n",
    "from sklearn import svm\n",
    "from sklearn import metrics\n"
   ]
  },
  {
   "cell_type": "code",
   "execution_count": 2,
   "id": "7f8a9d65",
   "metadata": {
    "execution": {
     "iopub.execute_input": "2022-01-10T13:35:48.747602Z",
     "iopub.status.busy": "2022-01-10T13:35:48.744992Z",
     "iopub.status.idle": "2022-01-10T13:35:49.359139Z",
     "shell.execute_reply": "2022-01-10T13:35:49.358564Z",
     "shell.execute_reply.started": "2022-01-10T13:32:24.207912Z"
    },
    "papermill": {
     "duration": 0.620597,
     "end_time": "2022-01-10T13:35:49.359296",
     "exception": false,
     "start_time": "2022-01-10T13:35:48.738699",
     "status": "completed"
    },
    "tags": []
   },
   "outputs": [
    {
     "name": "stdout",
     "output_type": "stream",
     "text": [
      "[0 1 2 ... 5 7 9]\n"
     ]
    },
    {
     "data": {
      "image/png": "[encoded data removed]",
      "text/plain": [
       "<Figure size 432x288 with 1 Axes>"
      ]
     },
     "metadata": {
      "needs_background": "light"
     },
     "output_type": "display_data"
    }
   ],
   "source": [
    "import matplotlib.pyplot as plt\n",
    "digits = datasets.load_digits()\n",
    "model = svm.SVC(gamma = 0.001, C=100)\n",
    "Features, Target = digits.data[:-10], digits.target[:-10]\n",
    "model.fit(Features,Target)\n",
    "print(model.predict(digits.data[:-10]))\n",
    "plt.imshow(digits.images[8], interpolation=\"nearest\")\n",
    "plt.show()"
   ]
  },
  {
   "cell_type": "code",
   "execution_count": 3,
   "id": "f378a4f2",
   "metadata": {
    "execution": {
     "iopub.execute_input": "2022-01-10T13:35:49.393365Z",
     "iopub.status.busy": "2022-01-10T13:35:49.372853Z",
     "iopub.status.idle": "2022-01-10T13:35:49.565104Z",
     "shell.execute_reply": "2022-01-10T13:35:49.564583Z",
     "shell.execute_reply.started": "2022-01-10T13:32:10.601315Z"
    },
    "papermill": {
     "duration": 0.200378,
     "end_time": "2022-01-10T13:35:49.565261",
     "exception": false,
     "start_time": "2022-01-10T13:35:49.364883",
     "status": "completed"
    },
    "tags": []
   },
   "outputs": [
    {
     "data": {
      "image/png": "[encoded data removed]",
      "text/plain": [
       "<Figure size 432x288 with 1 Axes>"
      ]
     },
     "metadata": {
      "needs_background": "light"
     },
     "output_type": "display_data"
    }
   ],
   "source": [
    "plt.imshow(digits.images[2], interpolation=\"nearest\")\n",
    "plt.show()"
   ]
  }
 ],
 "metadata": {
  "kernelspec": {
   "display_name": "Python 3",
   "language": "python",
   "name": "python3"
  },
  "language_info": {
   "codemirror_mode": {
    "name": "ipython",
    "version": 3
   },
   "file_extension": ".py",
   "mimetype": "text/x-python",
   "name": "python",
   "nbconvert_exporter": "python",
   "pygments_lexer": "ipython3",
   "version": "3.7.12"
  },
  "papermill": {
   "default_parameters": {},
   "duration": 12.883884,
   "end_time": "2022-01-10T13:35:50.280794",
   "environment_variables": {},
   "exception": null,
   "input_path": "__notebook__.ipynb",
   "output_path": "__notebook__.ipynb",
   "parameters": {},
   "start_time": "2022-01-10T13:35:37.396910",
   "version": "2.3.3"
  }
 },
 "nbformat": 4,
 "nbformat_minor": 5
}
